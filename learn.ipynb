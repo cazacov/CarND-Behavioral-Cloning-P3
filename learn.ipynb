{
 "cells": [
  {
   "cell_type": "markdown",
   "metadata": {},
   "source": [
    "### Prepare list of sample files ###\n",
    "\n",
    "Parse CSV files and fill filenames and measurements arrays.\n",
    "\n",
    "Source directories:\n",
    "- CCW - Two laps in counter-clockwise direction.\n",
    "- CW - Two laps in clockwise direction.\n",
    "- CCW_Minus - car driving in counter-clockwise was intentionally pushed out of the road and then returned back. Only measures with the negative steering angle should be recorded.\n",
    "- CCW_Plus - car driving in clockwise was intentionally pushed out of the road and then returned back. Only measures with the positive steering angle should be recorded.\n"
   ]
  },
  {
   "cell_type": "code",
   "execution_count": 3,
   "metadata": {
    "scrolled": true
   },
   "outputs": [
    {
     "name": "stdout",
     "output_type": "stream",
     "text": [
      "CCW 2141 records\n",
      "CW 2038 records\n",
      "CCW_Minus 1653 records\n",
      "CW_Plus 1180 records\n",
      "Total samples:  30918\n"
     ]
    }
   ],
   "source": [
    "import csv\n",
    "import cv2\n",
    "import numpy as np\n",
    "\n",
    "records=[]\n",
    "\n",
    "class Sample():\n",
    "    def __init__(self, image_path, angle, flip):\n",
    "        self.image_path = image_path\n",
    "        self.angle = angle\n",
    "        self.flip = flip\n",
    "    \n",
    "\n",
    "def importCsv(path, negativeOnly = None, positiveOnly = None):\n",
    "    lines = []\n",
    "    with open('./data/' + path + '/driving_log.csv') as csvfile:\n",
    "        reader = csv.reader(csvfile)\n",
    "        for line in reader:\n",
    "            if (len(line) > 1):\n",
    "                lines.append(line)\n",
    "    print(path, len(lines), 'records')        \n",
    "    \n",
    "    for line in lines:\n",
    "        centerImage = './data/' + path + '/IMG/' + line[0].split('\\\\')[-1]\n",
    "        leftImage = './data/' + path + '/IMG/' + line[1].split('\\\\')[-1]\n",
    "        rightImage = './data/' + path + '/IMG/' + line[2].split('\\\\')[-1]\n",
    "        measurement = float(line[3])\n",
    "        \n",
    "        if negativeOnly is not None and measurement >= 0:\n",
    "            continue\n",
    "        \n",
    "        if positiveOnly is not None and measurement <= 0:\n",
    "            continue\n",
    "        \n",
    "        records.append(Sample(centerImage, measurement, False))\n",
    "        records.append(Sample(leftImage, measurement + 0.2, False))\n",
    "        records.append(Sample(rightImage, measurement - 0.2, False))\n",
    "        \n",
    "        records.append(Sample(centerImage, -measurement, True))\n",
    "        records.append(Sample(leftImage, -(measurement + 0.2), True))\n",
    "        records.append(Sample(rightImage, -(measurement - 0.2), True))\n",
    "        \n",
    "        \n",
    "importCsv('CCW')\n",
    "importCsv('CW')\n",
    "importCsv('CCW_Minus', negativeOnly = True)\n",
    "importCsv('CW_Plus', positiveOnly = True)\n",
    "\n",
    "samples = np.array(records)\n",
    "\n",
    "print('Total samples: ', len(samples))\n"
   ]
  },
  {
   "cell_type": "markdown",
   "metadata": {},
   "source": [
    "### Data generators ###"
   ]
  },
  {
   "cell_type": "code",
   "execution_count": 4,
   "metadata": {},
   "outputs": [
    {
     "name": "stdout",
     "output_type": "stream",
     "text": [
      "Train samples:  24734\n",
      "Validation samples:  6184\n"
     ]
    }
   ],
   "source": [
    "import cv2\n",
    "import numpy as np\n",
    "import sklearn\n",
    "from sklearn.model_selection import train_test_split\n",
    "\n",
    "train_samples, valid_samples = train_test_split(samples, test_size=0.2)\n",
    "\n",
    "print('Train samples: ', len(train_samples))\n",
    "print('Validation samples: ', len(valid_samples))\n",
    "\n",
    "def generator(samples, batch_size=32):\n",
    "    num_samples = len(samples)\n",
    "    while 1: # Loop forever so the generator never terminates\n",
    "        samples = shuffle(samples)\n",
    "        for offset in range(0, num_samples, batch_size):\n",
    "            batch_samples = samples[offset:offset+batch_size]\n",
    "            images = []\n",
    "            angles = []\n",
    "            for sample in batch_samples:\n",
    "                image = cv2.imread(sample.image_path)\n",
    "                if (sample.flip):\n",
    "                    image = cv2.flip(image, 1)\n",
    "                \n",
    "                images.append(image)\n",
    "                angles.append(sample.angle)\n",
    "\n",
    "            # trim image to only see section with road\n",
    "            X_train = np.array(images)\n",
    "            y_train = np.array(angles)\n",
    "            yield sklearn.utils.shuffle(X_train, y_train)\n",
    "\n",
    "# compile and train the model using the generator function\n",
    "train_generator = generator(train_samples, batch_size=32)\n",
    "validation_generator = generator(valid_samples, batch_size=32)"
   ]
  },
  {
   "cell_type": "code",
   "execution_count": null,
   "metadata": {
    "collapsed": true
   },
   "outputs": [],
   "source": []
  }
 ],
 "metadata": {
  "kernelspec": {
   "display_name": "Python 3",
   "language": "python",
   "name": "python3"
  },
  "language_info": {
   "codemirror_mode": {
    "name": "ipython",
    "version": 3
   },
   "file_extension": ".py",
   "mimetype": "text/x-python",
   "name": "python",
   "nbconvert_exporter": "python",
   "pygments_lexer": "ipython3",
   "version": "3.5.2"
  },
  "widgets": {
   "state": {},
   "version": "1.1.2"
  }
 },
 "nbformat": 4,
 "nbformat_minor": 2
}
